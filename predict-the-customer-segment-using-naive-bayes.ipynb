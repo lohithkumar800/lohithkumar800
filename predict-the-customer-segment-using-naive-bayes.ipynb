{
 "cells": [
  {
   "cell_type": "code",
   "execution_count": 1,
   "id": "249bddc9",
   "metadata": {
    "_cell_guid": "b1076dfc-b9ad-4769-8c92-a6c4dae69d19",
    "_uuid": "8f2839f25d086af736a60e9eeb907d3b93b6e0e5",
    "execution": {
     "iopub.execute_input": "2022-11-20T14:03:03.858030Z",
     "iopub.status.busy": "2022-11-20T14:03:03.857406Z",
     "iopub.status.idle": "2022-11-20T14:03:03.880454Z",
     "shell.execute_reply": "2022-11-20T14:03:03.879350Z"
    },
    "papermill": {
     "duration": 0.035627,
     "end_time": "2022-11-20T14:03:03.883548",
     "exception": false,
     "start_time": "2022-11-20T14:03:03.847921",
     "status": "completed"
    },
    "tags": []
   },
   "outputs": [
    {
     "name": "stdout",
     "output_type": "stream",
     "text": [
      "/kaggle/input/customer/sample_submission.csv\n",
      "/kaggle/input/customer/Train.csv\n",
      "/kaggle/input/customer/Test.csv\n"
     ]
    }
   ],
   "source": [
    "# This Python 3 environment comes with many helpful analytics libraries installed\n",
    "# It is defined by the kaggle/python Docker image: https://github.com/kaggle/docker-python\n",
    "# For example, here's several helpful packages to load\n",
    "\n",
    "import numpy as np # linear algebra\n",
    "import pandas as pd # data processing, CSV file I/O (e.g. pd.read_csv)\n",
    "\n",
    "# Input data files are available in the read-only \"../input/\" directory\n",
    "# For example, running this (by clicking run or pressing Shift+Enter) will list all files under the input directory\n",
    "\n",
    "import os\n",
    "for dirname, _, filenames in os.walk('/kaggle/input'):\n",
    "    for filename in filenames:\n",
    "        print(os.path.join(dirname, filename))\n",
    "\n",
    "# You can write up to 20GB to the current directory (/kaggle/working/) that gets preserved as output when you create a version using \"Save & Run All\" \n",
    "# You can also write temporary files to /kaggle/temp/, but they won't be saved outside of the current session"
   ]
  },
  {
   "cell_type": "code",
   "execution_count": 2,
   "id": "3e57256a",
   "metadata": {
    "execution": {
     "iopub.execute_input": "2022-11-20T14:03:03.898038Z",
     "iopub.status.busy": "2022-11-20T14:03:03.897645Z",
     "iopub.status.idle": "2022-11-20T14:03:03.993276Z",
     "shell.execute_reply": "2022-11-20T14:03:03.992057Z"
    },
    "papermill": {
     "duration": 0.105653,
     "end_time": "2022-11-20T14:03:03.995719",
     "exception": false,
     "start_time": "2022-11-20T14:03:03.890066",
     "status": "completed"
    },
    "tags": []
   },
   "outputs": [
    {
     "data": {
      "text/html": [
       "<div>\n",
       "<style scoped>\n",
       "    .dataframe tbody tr th:only-of-type {\n",
       "        vertical-align: middle;\n",
       "    }\n",
       "\n",
       "    .dataframe tbody tr th {\n",
       "        vertical-align: top;\n",
       "    }\n",
       "\n",
       "    .dataframe thead th {\n",
       "        text-align: right;\n",
       "    }\n",
       "</style>\n",
       "<table border=\"1\" class=\"dataframe\">\n",
       "  <thead>\n",
       "    <tr style=\"text-align: right;\">\n",
       "      <th></th>\n",
       "      <th>ID</th>\n",
       "      <th>Gender</th>\n",
       "      <th>Ever_Married</th>\n",
       "      <th>Age</th>\n",
       "      <th>Graduated</th>\n",
       "      <th>Profession</th>\n",
       "      <th>Work_Experience</th>\n",
       "      <th>Spending_Score</th>\n",
       "      <th>Family_Size</th>\n",
       "      <th>Var_1</th>\n",
       "      <th>Segmentation</th>\n",
       "    </tr>\n",
       "  </thead>\n",
       "  <tbody>\n",
       "    <tr>\n",
       "      <th>0</th>\n",
       "      <td>462809</td>\n",
       "      <td>Male</td>\n",
       "      <td>No</td>\n",
       "      <td>22</td>\n",
       "      <td>No</td>\n",
       "      <td>Healthcare</td>\n",
       "      <td>1.0</td>\n",
       "      <td>Low</td>\n",
       "      <td>4.0</td>\n",
       "      <td>Cat_4</td>\n",
       "      <td>D</td>\n",
       "    </tr>\n",
       "    <tr>\n",
       "      <th>1</th>\n",
       "      <td>462643</td>\n",
       "      <td>Female</td>\n",
       "      <td>Yes</td>\n",
       "      <td>38</td>\n",
       "      <td>Yes</td>\n",
       "      <td>Engineer</td>\n",
       "      <td>NaN</td>\n",
       "      <td>Average</td>\n",
       "      <td>3.0</td>\n",
       "      <td>Cat_4</td>\n",
       "      <td>A</td>\n",
       "    </tr>\n",
       "    <tr>\n",
       "      <th>2</th>\n",
       "      <td>466315</td>\n",
       "      <td>Female</td>\n",
       "      <td>Yes</td>\n",
       "      <td>67</td>\n",
       "      <td>Yes</td>\n",
       "      <td>Engineer</td>\n",
       "      <td>1.0</td>\n",
       "      <td>Low</td>\n",
       "      <td>1.0</td>\n",
       "      <td>Cat_6</td>\n",
       "      <td>B</td>\n",
       "    </tr>\n",
       "    <tr>\n",
       "      <th>3</th>\n",
       "      <td>461735</td>\n",
       "      <td>Male</td>\n",
       "      <td>Yes</td>\n",
       "      <td>67</td>\n",
       "      <td>Yes</td>\n",
       "      <td>Lawyer</td>\n",
       "      <td>0.0</td>\n",
       "      <td>High</td>\n",
       "      <td>2.0</td>\n",
       "      <td>Cat_6</td>\n",
       "      <td>B</td>\n",
       "    </tr>\n",
       "    <tr>\n",
       "      <th>4</th>\n",
       "      <td>462669</td>\n",
       "      <td>Female</td>\n",
       "      <td>Yes</td>\n",
       "      <td>40</td>\n",
       "      <td>Yes</td>\n",
       "      <td>Entertainment</td>\n",
       "      <td>NaN</td>\n",
       "      <td>High</td>\n",
       "      <td>6.0</td>\n",
       "      <td>Cat_6</td>\n",
       "      <td>A</td>\n",
       "    </tr>\n",
       "    <tr>\n",
       "      <th>...</th>\n",
       "      <td>...</td>\n",
       "      <td>...</td>\n",
       "      <td>...</td>\n",
       "      <td>...</td>\n",
       "      <td>...</td>\n",
       "      <td>...</td>\n",
       "      <td>...</td>\n",
       "      <td>...</td>\n",
       "      <td>...</td>\n",
       "      <td>...</td>\n",
       "      <td>...</td>\n",
       "    </tr>\n",
       "    <tr>\n",
       "      <th>8063</th>\n",
       "      <td>464018</td>\n",
       "      <td>Male</td>\n",
       "      <td>No</td>\n",
       "      <td>22</td>\n",
       "      <td>No</td>\n",
       "      <td>NaN</td>\n",
       "      <td>0.0</td>\n",
       "      <td>Low</td>\n",
       "      <td>7.0</td>\n",
       "      <td>Cat_1</td>\n",
       "      <td>D</td>\n",
       "    </tr>\n",
       "    <tr>\n",
       "      <th>8064</th>\n",
       "      <td>464685</td>\n",
       "      <td>Male</td>\n",
       "      <td>No</td>\n",
       "      <td>35</td>\n",
       "      <td>No</td>\n",
       "      <td>Executive</td>\n",
       "      <td>3.0</td>\n",
       "      <td>Low</td>\n",
       "      <td>4.0</td>\n",
       "      <td>Cat_4</td>\n",
       "      <td>D</td>\n",
       "    </tr>\n",
       "    <tr>\n",
       "      <th>8065</th>\n",
       "      <td>465406</td>\n",
       "      <td>Female</td>\n",
       "      <td>No</td>\n",
       "      <td>33</td>\n",
       "      <td>Yes</td>\n",
       "      <td>Healthcare</td>\n",
       "      <td>1.0</td>\n",
       "      <td>Low</td>\n",
       "      <td>1.0</td>\n",
       "      <td>Cat_6</td>\n",
       "      <td>D</td>\n",
       "    </tr>\n",
       "    <tr>\n",
       "      <th>8066</th>\n",
       "      <td>467299</td>\n",
       "      <td>Female</td>\n",
       "      <td>No</td>\n",
       "      <td>27</td>\n",
       "      <td>Yes</td>\n",
       "      <td>Healthcare</td>\n",
       "      <td>1.0</td>\n",
       "      <td>Low</td>\n",
       "      <td>4.0</td>\n",
       "      <td>Cat_6</td>\n",
       "      <td>B</td>\n",
       "    </tr>\n",
       "    <tr>\n",
       "      <th>8067</th>\n",
       "      <td>461879</td>\n",
       "      <td>Male</td>\n",
       "      <td>Yes</td>\n",
       "      <td>37</td>\n",
       "      <td>Yes</td>\n",
       "      <td>Executive</td>\n",
       "      <td>0.0</td>\n",
       "      <td>Average</td>\n",
       "      <td>3.0</td>\n",
       "      <td>Cat_4</td>\n",
       "      <td>B</td>\n",
       "    </tr>\n",
       "  </tbody>\n",
       "</table>\n",
       "<p>8068 rows × 11 columns</p>\n",
       "</div>"
      ],
      "text/plain": [
       "          ID  Gender Ever_Married  Age Graduated     Profession  \\\n",
       "0     462809    Male           No   22        No     Healthcare   \n",
       "1     462643  Female          Yes   38       Yes       Engineer   \n",
       "2     466315  Female          Yes   67       Yes       Engineer   \n",
       "3     461735    Male          Yes   67       Yes         Lawyer   \n",
       "4     462669  Female          Yes   40       Yes  Entertainment   \n",
       "...      ...     ...          ...  ...       ...            ...   \n",
       "8063  464018    Male           No   22        No            NaN   \n",
       "8064  464685    Male           No   35        No      Executive   \n",
       "8065  465406  Female           No   33       Yes     Healthcare   \n",
       "8066  467299  Female           No   27       Yes     Healthcare   \n",
       "8067  461879    Male          Yes   37       Yes      Executive   \n",
       "\n",
       "      Work_Experience Spending_Score  Family_Size  Var_1 Segmentation  \n",
       "0                 1.0            Low          4.0  Cat_4            D  \n",
       "1                 NaN        Average          3.0  Cat_4            A  \n",
       "2                 1.0            Low          1.0  Cat_6            B  \n",
       "3                 0.0           High          2.0  Cat_6            B  \n",
       "4                 NaN           High          6.0  Cat_6            A  \n",
       "...               ...            ...          ...    ...          ...  \n",
       "8063              0.0            Low          7.0  Cat_1            D  \n",
       "8064              3.0            Low          4.0  Cat_4            D  \n",
       "8065              1.0            Low          1.0  Cat_6            D  \n",
       "8066              1.0            Low          4.0  Cat_6            B  \n",
       "8067              0.0        Average          3.0  Cat_4            B  \n",
       "\n",
       "[8068 rows x 11 columns]"
      ]
     },
     "execution_count": 2,
     "metadata": {},
     "output_type": "execute_result"
    }
   ],
   "source": [
    "df_data = pd.read_csv(\"../input/customer/Train.csv\")\n",
    "df_data"
   ]
  },
  {
   "cell_type": "code",
   "execution_count": 3,
   "id": "f1ed654c",
   "metadata": {
    "execution": {
     "iopub.execute_input": "2022-11-20T14:03:04.010981Z",
     "iopub.status.busy": "2022-11-20T14:03:04.010581Z",
     "iopub.status.idle": "2022-11-20T14:03:04.031500Z",
     "shell.execute_reply": "2022-11-20T14:03:04.030465Z"
    },
    "papermill": {
     "duration": 0.031258,
     "end_time": "2022-11-20T14:03:04.033824",
     "exception": false,
     "start_time": "2022-11-20T14:03:04.002566",
     "status": "completed"
    },
    "tags": []
   },
   "outputs": [
    {
     "data": {
      "text/html": [
       "<div>\n",
       "<style scoped>\n",
       "    .dataframe tbody tr th:only-of-type {\n",
       "        vertical-align: middle;\n",
       "    }\n",
       "\n",
       "    .dataframe tbody tr th {\n",
       "        vertical-align: top;\n",
       "    }\n",
       "\n",
       "    .dataframe thead th {\n",
       "        text-align: right;\n",
       "    }\n",
       "</style>\n",
       "<table border=\"1\" class=\"dataframe\">\n",
       "  <thead>\n",
       "    <tr style=\"text-align: right;\">\n",
       "      <th></th>\n",
       "      <th>ID</th>\n",
       "      <th>Gender</th>\n",
       "      <th>Ever_Married</th>\n",
       "      <th>Age</th>\n",
       "      <th>Graduated</th>\n",
       "      <th>Profession</th>\n",
       "      <th>Work_Experience</th>\n",
       "      <th>Spending_Score</th>\n",
       "      <th>Family_Size</th>\n",
       "      <th>Category</th>\n",
       "      <th>Segmentation</th>\n",
       "    </tr>\n",
       "  </thead>\n",
       "  <tbody>\n",
       "    <tr>\n",
       "      <th>0</th>\n",
       "      <td>462809</td>\n",
       "      <td>Male</td>\n",
       "      <td>No</td>\n",
       "      <td>22</td>\n",
       "      <td>No</td>\n",
       "      <td>Healthcare</td>\n",
       "      <td>1.0</td>\n",
       "      <td>Low</td>\n",
       "      <td>4.0</td>\n",
       "      <td>Cat_4</td>\n",
       "      <td>D</td>\n",
       "    </tr>\n",
       "    <tr>\n",
       "      <th>1</th>\n",
       "      <td>462643</td>\n",
       "      <td>Female</td>\n",
       "      <td>Yes</td>\n",
       "      <td>38</td>\n",
       "      <td>Yes</td>\n",
       "      <td>Engineer</td>\n",
       "      <td>NaN</td>\n",
       "      <td>Average</td>\n",
       "      <td>3.0</td>\n",
       "      <td>Cat_4</td>\n",
       "      <td>A</td>\n",
       "    </tr>\n",
       "    <tr>\n",
       "      <th>2</th>\n",
       "      <td>466315</td>\n",
       "      <td>Female</td>\n",
       "      <td>Yes</td>\n",
       "      <td>67</td>\n",
       "      <td>Yes</td>\n",
       "      <td>Engineer</td>\n",
       "      <td>1.0</td>\n",
       "      <td>Low</td>\n",
       "      <td>1.0</td>\n",
       "      <td>Cat_6</td>\n",
       "      <td>B</td>\n",
       "    </tr>\n",
       "    <tr>\n",
       "      <th>3</th>\n",
       "      <td>461735</td>\n",
       "      <td>Male</td>\n",
       "      <td>Yes</td>\n",
       "      <td>67</td>\n",
       "      <td>Yes</td>\n",
       "      <td>Lawyer</td>\n",
       "      <td>0.0</td>\n",
       "      <td>High</td>\n",
       "      <td>2.0</td>\n",
       "      <td>Cat_6</td>\n",
       "      <td>B</td>\n",
       "    </tr>\n",
       "    <tr>\n",
       "      <th>4</th>\n",
       "      <td>462669</td>\n",
       "      <td>Female</td>\n",
       "      <td>Yes</td>\n",
       "      <td>40</td>\n",
       "      <td>Yes</td>\n",
       "      <td>Entertainment</td>\n",
       "      <td>NaN</td>\n",
       "      <td>High</td>\n",
       "      <td>6.0</td>\n",
       "      <td>Cat_6</td>\n",
       "      <td>A</td>\n",
       "    </tr>\n",
       "  </tbody>\n",
       "</table>\n",
       "</div>"
      ],
      "text/plain": [
       "       ID  Gender Ever_Married  Age Graduated     Profession  Work_Experience  \\\n",
       "0  462809    Male           No   22        No     Healthcare              1.0   \n",
       "1  462643  Female          Yes   38       Yes       Engineer              NaN   \n",
       "2  466315  Female          Yes   67       Yes       Engineer              1.0   \n",
       "3  461735    Male          Yes   67       Yes         Lawyer              0.0   \n",
       "4  462669  Female          Yes   40       Yes  Entertainment              NaN   \n",
       "\n",
       "  Spending_Score  Family_Size Category Segmentation  \n",
       "0            Low          4.0    Cat_4            D  \n",
       "1        Average          3.0    Cat_4            A  \n",
       "2            Low          1.0    Cat_6            B  \n",
       "3           High          2.0    Cat_6            B  \n",
       "4           High          6.0    Cat_6            A  "
      ]
     },
     "execution_count": 3,
     "metadata": {},
     "output_type": "execute_result"
    }
   ],
   "source": [
    "df_data = df_data.rename(columns ={'Var_1': 'Category'})\n",
    "df_data.head()"
   ]
  },
  {
   "cell_type": "code",
   "execution_count": 4,
   "id": "752c5a23",
   "metadata": {
    "execution": {
     "iopub.execute_input": "2022-11-20T14:03:04.050349Z",
     "iopub.status.busy": "2022-11-20T14:03:04.049309Z",
     "iopub.status.idle": "2022-11-20T14:03:04.072367Z",
     "shell.execute_reply": "2022-11-20T14:03:04.071217Z"
    },
    "papermill": {
     "duration": 0.034282,
     "end_time": "2022-11-20T14:03:04.075316",
     "exception": false,
     "start_time": "2022-11-20T14:03:04.041034",
     "status": "completed"
    },
    "tags": []
   },
   "outputs": [
    {
     "data": {
      "text/html": [
       "<div>\n",
       "<style scoped>\n",
       "    .dataframe tbody tr th:only-of-type {\n",
       "        vertical-align: middle;\n",
       "    }\n",
       "\n",
       "    .dataframe tbody tr th {\n",
       "        vertical-align: top;\n",
       "    }\n",
       "\n",
       "    .dataframe thead th {\n",
       "        text-align: right;\n",
       "    }\n",
       "</style>\n",
       "<table border=\"1\" class=\"dataframe\">\n",
       "  <thead>\n",
       "    <tr style=\"text-align: right;\">\n",
       "      <th></th>\n",
       "      <th>Gender</th>\n",
       "      <th>Ever_Married</th>\n",
       "      <th>Age</th>\n",
       "      <th>Graduated</th>\n",
       "      <th>Profession</th>\n",
       "      <th>Work_Experience</th>\n",
       "      <th>Spending_Score</th>\n",
       "      <th>Family_Size</th>\n",
       "      <th>Category</th>\n",
       "      <th>Segmentation</th>\n",
       "    </tr>\n",
       "  </thead>\n",
       "  <tbody>\n",
       "    <tr>\n",
       "      <th>6799</th>\n",
       "      <td>Female</td>\n",
       "      <td>No</td>\n",
       "      <td>28</td>\n",
       "      <td>Yes</td>\n",
       "      <td>Healthcare</td>\n",
       "      <td>1.0</td>\n",
       "      <td>Low</td>\n",
       "      <td>6.0</td>\n",
       "      <td>Cat_6</td>\n",
       "      <td>D</td>\n",
       "    </tr>\n",
       "    <tr>\n",
       "      <th>7438</th>\n",
       "      <td>Male</td>\n",
       "      <td>Yes</td>\n",
       "      <td>28</td>\n",
       "      <td>No</td>\n",
       "      <td>Doctor</td>\n",
       "      <td>5.0</td>\n",
       "      <td>Low</td>\n",
       "      <td>2.0</td>\n",
       "      <td>Cat_3</td>\n",
       "      <td>D</td>\n",
       "    </tr>\n",
       "    <tr>\n",
       "      <th>5283</th>\n",
       "      <td>Female</td>\n",
       "      <td>Yes</td>\n",
       "      <td>56</td>\n",
       "      <td>No</td>\n",
       "      <td>Artist</td>\n",
       "      <td>NaN</td>\n",
       "      <td>Average</td>\n",
       "      <td>3.0</td>\n",
       "      <td>Cat_6</td>\n",
       "      <td>C</td>\n",
       "    </tr>\n",
       "    <tr>\n",
       "      <th>5804</th>\n",
       "      <td>Male</td>\n",
       "      <td>Yes</td>\n",
       "      <td>35</td>\n",
       "      <td>No</td>\n",
       "      <td>Artist</td>\n",
       "      <td>9.0</td>\n",
       "      <td>Low</td>\n",
       "      <td>3.0</td>\n",
       "      <td>Cat_7</td>\n",
       "      <td>A</td>\n",
       "    </tr>\n",
       "    <tr>\n",
       "      <th>6744</th>\n",
       "      <td>Female</td>\n",
       "      <td>No</td>\n",
       "      <td>63</td>\n",
       "      <td>Yes</td>\n",
       "      <td>Artist</td>\n",
       "      <td>1.0</td>\n",
       "      <td>Low</td>\n",
       "      <td>2.0</td>\n",
       "      <td>Cat_6</td>\n",
       "      <td>B</td>\n",
       "    </tr>\n",
       "    <tr>\n",
       "      <th>5510</th>\n",
       "      <td>Male</td>\n",
       "      <td>Yes</td>\n",
       "      <td>53</td>\n",
       "      <td>Yes</td>\n",
       "      <td>Artist</td>\n",
       "      <td>4.0</td>\n",
       "      <td>Average</td>\n",
       "      <td>2.0</td>\n",
       "      <td>Cat_6</td>\n",
       "      <td>C</td>\n",
       "    </tr>\n",
       "    <tr>\n",
       "      <th>6890</th>\n",
       "      <td>Female</td>\n",
       "      <td>Yes</td>\n",
       "      <td>66</td>\n",
       "      <td>Yes</td>\n",
       "      <td>Artist</td>\n",
       "      <td>1.0</td>\n",
       "      <td>Average</td>\n",
       "      <td>3.0</td>\n",
       "      <td>Cat_6</td>\n",
       "      <td>C</td>\n",
       "    </tr>\n",
       "    <tr>\n",
       "      <th>8055</th>\n",
       "      <td>Male</td>\n",
       "      <td>No</td>\n",
       "      <td>18</td>\n",
       "      <td>No</td>\n",
       "      <td>Healthcare</td>\n",
       "      <td>0.0</td>\n",
       "      <td>Low</td>\n",
       "      <td>2.0</td>\n",
       "      <td>Cat_6</td>\n",
       "      <td>D</td>\n",
       "    </tr>\n",
       "    <tr>\n",
       "      <th>1856</th>\n",
       "      <td>Female</td>\n",
       "      <td>Yes</td>\n",
       "      <td>40</td>\n",
       "      <td>Yes</td>\n",
       "      <td>Artist</td>\n",
       "      <td>1.0</td>\n",
       "      <td>Average</td>\n",
       "      <td>2.0</td>\n",
       "      <td>Cat_6</td>\n",
       "      <td>C</td>\n",
       "    </tr>\n",
       "    <tr>\n",
       "      <th>3081</th>\n",
       "      <td>Male</td>\n",
       "      <td>Yes</td>\n",
       "      <td>52</td>\n",
       "      <td>No</td>\n",
       "      <td>Executive</td>\n",
       "      <td>9.0</td>\n",
       "      <td>Average</td>\n",
       "      <td>4.0</td>\n",
       "      <td>Cat_6</td>\n",
       "      <td>A</td>\n",
       "    </tr>\n",
       "  </tbody>\n",
       "</table>\n",
       "</div>"
      ],
      "text/plain": [
       "      Gender Ever_Married  Age Graduated  Profession  Work_Experience  \\\n",
       "6799  Female           No   28       Yes  Healthcare              1.0   \n",
       "7438    Male          Yes   28        No      Doctor              5.0   \n",
       "5283  Female          Yes   56        No      Artist              NaN   \n",
       "5804    Male          Yes   35        No      Artist              9.0   \n",
       "6744  Female           No   63       Yes      Artist              1.0   \n",
       "5510    Male          Yes   53       Yes      Artist              4.0   \n",
       "6890  Female          Yes   66       Yes      Artist              1.0   \n",
       "8055    Male           No   18        No  Healthcare              0.0   \n",
       "1856  Female          Yes   40       Yes      Artist              1.0   \n",
       "3081    Male          Yes   52        No   Executive              9.0   \n",
       "\n",
       "     Spending_Score  Family_Size Category Segmentation  \n",
       "6799            Low          6.0    Cat_6            D  \n",
       "7438            Low          2.0    Cat_3            D  \n",
       "5283        Average          3.0    Cat_6            C  \n",
       "5804            Low          3.0    Cat_7            A  \n",
       "6744            Low          2.0    Cat_6            B  \n",
       "5510        Average          2.0    Cat_6            C  \n",
       "6890        Average          3.0    Cat_6            C  \n",
       "8055            Low          2.0    Cat_6            D  \n",
       "1856        Average          2.0    Cat_6            C  \n",
       "3081        Average          4.0    Cat_6            A  "
      ]
     },
     "execution_count": 4,
     "metadata": {},
     "output_type": "execute_result"
    }
   ],
   "source": [
    "df_data = df_data.drop(columns=['ID'])\n",
    "df_data.sample(10)             "
   ]
  },
  {
   "cell_type": "code",
   "execution_count": 5,
   "id": "505ea3cb",
   "metadata": {
    "execution": {
     "iopub.execute_input": "2022-11-20T14:03:04.092137Z",
     "iopub.status.busy": "2022-11-20T14:03:04.091416Z",
     "iopub.status.idle": "2022-11-20T14:03:04.103702Z",
     "shell.execute_reply": "2022-11-20T14:03:04.102588Z"
    },
    "papermill": {
     "duration": 0.023499,
     "end_time": "2022-11-20T14:03:04.106176",
     "exception": false,
     "start_time": "2022-11-20T14:03:04.082677",
     "status": "completed"
    },
    "tags": []
   },
   "outputs": [
    {
     "data": {
      "text/plain": [
       "Gender               0\n",
       "Ever_Married       140\n",
       "Age                  0\n",
       "Graduated           78\n",
       "Profession         124\n",
       "Work_Experience    829\n",
       "Spending_Score       0\n",
       "Family_Size        335\n",
       "Category            76\n",
       "Segmentation         0\n",
       "dtype: int64"
      ]
     },
     "execution_count": 5,
     "metadata": {},
     "output_type": "execute_result"
    }
   ],
   "source": [
    "df_data.isna().sum()"
   ]
  },
  {
   "cell_type": "code",
   "execution_count": 6,
   "id": "c81e8a06",
   "metadata": {
    "execution": {
     "iopub.execute_input": "2022-11-20T14:03:04.125477Z",
     "iopub.status.busy": "2022-11-20T14:03:04.124871Z",
     "iopub.status.idle": "2022-11-20T14:03:04.188172Z",
     "shell.execute_reply": "2022-11-20T14:03:04.187088Z"
    },
    "papermill": {
     "duration": 0.07493,
     "end_time": "2022-11-20T14:03:04.190768",
     "exception": false,
     "start_time": "2022-11-20T14:03:04.115838",
     "status": "completed"
    },
    "tags": []
   },
   "outputs": [
    {
     "data": {
      "text/html": [
       "<div>\n",
       "<style scoped>\n",
       "    .dataframe tbody tr th:only-of-type {\n",
       "        vertical-align: middle;\n",
       "    }\n",
       "\n",
       "    .dataframe tbody tr th {\n",
       "        vertical-align: top;\n",
       "    }\n",
       "\n",
       "    .dataframe thead th {\n",
       "        text-align: right;\n",
       "    }\n",
       "</style>\n",
       "<table border=\"1\" class=\"dataframe\">\n",
       "  <thead>\n",
       "    <tr style=\"text-align: right;\">\n",
       "      <th></th>\n",
       "      <th>Gender</th>\n",
       "      <th>Ever_Married</th>\n",
       "      <th>Age</th>\n",
       "      <th>Graduated</th>\n",
       "      <th>Profession</th>\n",
       "      <th>Work_Experience</th>\n",
       "      <th>Spending_Score</th>\n",
       "      <th>Family_Size</th>\n",
       "      <th>Category</th>\n",
       "      <th>Segmentation</th>\n",
       "    </tr>\n",
       "  </thead>\n",
       "  <tbody>\n",
       "    <tr>\n",
       "      <th>1680</th>\n",
       "      <td>Male</td>\n",
       "      <td>Yes</td>\n",
       "      <td>65</td>\n",
       "      <td>Yes</td>\n",
       "      <td>Executive</td>\n",
       "      <td>0.0</td>\n",
       "      <td>High</td>\n",
       "      <td>4.0</td>\n",
       "      <td>Cat_6</td>\n",
       "      <td>C</td>\n",
       "    </tr>\n",
       "    <tr>\n",
       "      <th>8013</th>\n",
       "      <td>Male</td>\n",
       "      <td>Yes</td>\n",
       "      <td>52</td>\n",
       "      <td>Yes</td>\n",
       "      <td>Artist</td>\n",
       "      <td>2.0</td>\n",
       "      <td>Low</td>\n",
       "      <td>3.0</td>\n",
       "      <td>Cat_3</td>\n",
       "      <td>A</td>\n",
       "    </tr>\n",
       "    <tr>\n",
       "      <th>3087</th>\n",
       "      <td>Female</td>\n",
       "      <td>No</td>\n",
       "      <td>30</td>\n",
       "      <td>Yes</td>\n",
       "      <td>Doctor</td>\n",
       "      <td>0.0</td>\n",
       "      <td>Low</td>\n",
       "      <td>5.0</td>\n",
       "      <td>Cat_6</td>\n",
       "      <td>D</td>\n",
       "    </tr>\n",
       "    <tr>\n",
       "      <th>7496</th>\n",
       "      <td>Male</td>\n",
       "      <td>Yes</td>\n",
       "      <td>40</td>\n",
       "      <td>Yes</td>\n",
       "      <td>Entertainment</td>\n",
       "      <td>8.0</td>\n",
       "      <td>Low</td>\n",
       "      <td>2.0</td>\n",
       "      <td>Cat_6</td>\n",
       "      <td>D</td>\n",
       "    </tr>\n",
       "    <tr>\n",
       "      <th>7635</th>\n",
       "      <td>Female</td>\n",
       "      <td>Yes</td>\n",
       "      <td>57</td>\n",
       "      <td>Yes</td>\n",
       "      <td>Artist</td>\n",
       "      <td>1.0</td>\n",
       "      <td>High</td>\n",
       "      <td>3.0</td>\n",
       "      <td>Cat_2</td>\n",
       "      <td>B</td>\n",
       "    </tr>\n",
       "    <tr>\n",
       "      <th>0</th>\n",
       "      <td>Male</td>\n",
       "      <td>No</td>\n",
       "      <td>22</td>\n",
       "      <td>No</td>\n",
       "      <td>Healthcare</td>\n",
       "      <td>1.0</td>\n",
       "      <td>Low</td>\n",
       "      <td>4.0</td>\n",
       "      <td>Cat_4</td>\n",
       "      <td>D</td>\n",
       "    </tr>\n",
       "    <tr>\n",
       "      <th>1556</th>\n",
       "      <td>Male</td>\n",
       "      <td>Yes</td>\n",
       "      <td>36</td>\n",
       "      <td>No</td>\n",
       "      <td>Entertainment</td>\n",
       "      <td>0.0</td>\n",
       "      <td>Average</td>\n",
       "      <td>4.0</td>\n",
       "      <td>Cat_4</td>\n",
       "      <td>A</td>\n",
       "    </tr>\n",
       "    <tr>\n",
       "      <th>3140</th>\n",
       "      <td>Female</td>\n",
       "      <td>No</td>\n",
       "      <td>42</td>\n",
       "      <td>Yes</td>\n",
       "      <td>Artist</td>\n",
       "      <td>9.0</td>\n",
       "      <td>Low</td>\n",
       "      <td>1.0</td>\n",
       "      <td>Cat_6</td>\n",
       "      <td>C</td>\n",
       "    </tr>\n",
       "    <tr>\n",
       "      <th>5772</th>\n",
       "      <td>Male</td>\n",
       "      <td>Yes</td>\n",
       "      <td>47</td>\n",
       "      <td>Yes</td>\n",
       "      <td>Executive</td>\n",
       "      <td>8.0</td>\n",
       "      <td>High</td>\n",
       "      <td>4.0</td>\n",
       "      <td>Cat_6</td>\n",
       "      <td>C</td>\n",
       "    </tr>\n",
       "    <tr>\n",
       "      <th>3620</th>\n",
       "      <td>Female</td>\n",
       "      <td>Yes</td>\n",
       "      <td>26</td>\n",
       "      <td>No</td>\n",
       "      <td>Homemaker</td>\n",
       "      <td>8.0</td>\n",
       "      <td>Average</td>\n",
       "      <td>4.0</td>\n",
       "      <td>Cat_2</td>\n",
       "      <td>D</td>\n",
       "    </tr>\n",
       "  </tbody>\n",
       "</table>\n",
       "</div>"
      ],
      "text/plain": [
       "      Gender Ever_Married  Age Graduated     Profession  Work_Experience  \\\n",
       "1680    Male          Yes   65       Yes      Executive              0.0   \n",
       "8013    Male          Yes   52       Yes         Artist              2.0   \n",
       "3087  Female           No   30       Yes         Doctor              0.0   \n",
       "7496    Male          Yes   40       Yes  Entertainment              8.0   \n",
       "7635  Female          Yes   57       Yes         Artist              1.0   \n",
       "0       Male           No   22        No     Healthcare              1.0   \n",
       "1556    Male          Yes   36        No  Entertainment              0.0   \n",
       "3140  Female           No   42       Yes         Artist              9.0   \n",
       "5772    Male          Yes   47       Yes      Executive              8.0   \n",
       "3620  Female          Yes   26        No      Homemaker              8.0   \n",
       "\n",
       "     Spending_Score  Family_Size Category Segmentation  \n",
       "1680           High          4.0    Cat_6            C  \n",
       "8013            Low          3.0    Cat_3            A  \n",
       "3087            Low          5.0    Cat_6            D  \n",
       "7496            Low          2.0    Cat_6            D  \n",
       "7635           High          3.0    Cat_2            B  \n",
       "0               Low          4.0    Cat_4            D  \n",
       "1556        Average          4.0    Cat_4            A  \n",
       "3140            Low          1.0    Cat_6            C  \n",
       "5772           High          4.0    Cat_6            C  \n",
       "3620        Average          4.0    Cat_2            D  "
      ]
     },
     "execution_count": 6,
     "metadata": {},
     "output_type": "execute_result"
    }
   ],
   "source": [
    "df_data.dropna().sum()\n",
    "df_data = df_data.dropna()\n",
    "df_data.sample(10)"
   ]
  },
  {
   "cell_type": "markdown",
   "id": "2489e4cb",
   "metadata": {
    "papermill": {
     "duration": 0.007201,
     "end_time": "2022-11-20T14:03:04.205892",
     "exception": false,
     "start_time": "2022-11-20T14:03:04.198691",
     "status": "completed"
    },
    "tags": []
   },
   "source": [
    "# Covert non-numerical values into numerical vaues"
   ]
  },
  {
   "cell_type": "code",
   "execution_count": 7,
   "id": "b3f90908",
   "metadata": {
    "execution": {
     "iopub.execute_input": "2022-11-20T14:03:04.224749Z",
     "iopub.status.busy": "2022-11-20T14:03:04.224365Z",
     "iopub.status.idle": "2022-11-20T14:03:04.229706Z",
     "shell.execute_reply": "2022-11-20T14:03:04.228467Z"
    },
    "papermill": {
     "duration": 0.018234,
     "end_time": "2022-11-20T14:03:04.232118",
     "exception": false,
     "start_time": "2022-11-20T14:03:04.213884",
     "status": "completed"
    },
    "tags": []
   },
   "outputs": [],
   "source": [
    "def get_encoded_dict(values):\n",
    "    return {val:i for i, val in enumerate(values)}"
   ]
  },
  {
   "cell_type": "code",
   "execution_count": 8,
   "id": "9aa70869",
   "metadata": {
    "execution": {
     "iopub.execute_input": "2022-11-20T14:03:04.248774Z",
     "iopub.status.busy": "2022-11-20T14:03:04.248382Z",
     "iopub.status.idle": "2022-11-20T14:03:04.265381Z",
     "shell.execute_reply": "2022-11-20T14:03:04.264145Z"
    },
    "papermill": {
     "duration": 0.028375,
     "end_time": "2022-11-20T14:03:04.268079",
     "exception": false,
     "start_time": "2022-11-20T14:03:04.239704",
     "status": "completed"
    },
    "tags": []
   },
   "outputs": [
    {
     "data": {
      "text/plain": [
       "{'D': 0, 'B': 1, 'C': 2, 'A': 3}"
      ]
     },
     "execution_count": 8,
     "metadata": {},
     "output_type": "execute_result"
    }
   ],
   "source": [
    "gender_dict = get_encoded_dict(df_data.Gender.unique())\n",
    "married_dict = get_encoded_dict(df_data.Ever_Married.unique())\n",
    "grad_dict = get_encoded_dict(df_data.Graduated.unique())\n",
    "Profession_dict = get_encoded_dict(df_data.Profession.unique())\n",
    "spend_dict = get_encoded_dict(df_data.Spending_Score.unique())\n",
    "cat_dict = get_encoded_dict(df_data.Category.unique())\n",
    "segment_dict = get_encoded_dict(df_data.Segmentation.unique())\n",
    "segment_dict"
   ]
  },
  {
   "cell_type": "code",
   "execution_count": 9,
   "id": "09dad4c4",
   "metadata": {
    "execution": {
     "iopub.execute_input": "2022-11-20T14:03:04.285734Z",
     "iopub.status.busy": "2022-11-20T14:03:04.284978Z",
     "iopub.status.idle": "2022-11-20T14:03:04.291436Z",
     "shell.execute_reply": "2022-11-20T14:03:04.290365Z"
    },
    "papermill": {
     "duration": 0.017997,
     "end_time": "2022-11-20T14:03:04.293982",
     "exception": false,
     "start_time": "2022-11-20T14:03:04.275985",
     "status": "completed"
    },
    "tags": []
   },
   "outputs": [],
   "source": [
    "encoded_dict = {\n",
    "    'Gender' : gender_dict,\n",
    "    'Ever_Married': married_dict,\n",
    "    'Graduated' : grad_dict,\n",
    "    'Profession': Profession_dict,\n",
    "    'Spending_Score': spend_dict,\n",
    "     'Category': cat_dict,\n",
    "    'Segmentation': segment_dict\n",
    "}"
   ]
  },
  {
   "cell_type": "code",
   "execution_count": 10,
   "id": "4c420e43",
   "metadata": {
    "execution": {
     "iopub.execute_input": "2022-11-20T14:03:04.311408Z",
     "iopub.status.busy": "2022-11-20T14:03:04.310489Z",
     "iopub.status.idle": "2022-11-20T14:03:04.358777Z",
     "shell.execute_reply": "2022-11-20T14:03:04.357208Z"
    },
    "papermill": {
     "duration": 0.05979,
     "end_time": "2022-11-20T14:03:04.361464",
     "exception": false,
     "start_time": "2022-11-20T14:03:04.301674",
     "status": "completed"
    },
    "tags": []
   },
   "outputs": [
    {
     "data": {
      "text/html": [
       "<div>\n",
       "<style scoped>\n",
       "    .dataframe tbody tr th:only-of-type {\n",
       "        vertical-align: middle;\n",
       "    }\n",
       "\n",
       "    .dataframe tbody tr th {\n",
       "        vertical-align: top;\n",
       "    }\n",
       "\n",
       "    .dataframe thead th {\n",
       "        text-align: right;\n",
       "    }\n",
       "</style>\n",
       "<table border=\"1\" class=\"dataframe\">\n",
       "  <thead>\n",
       "    <tr style=\"text-align: right;\">\n",
       "      <th></th>\n",
       "      <th>Gender</th>\n",
       "      <th>Ever_Married</th>\n",
       "      <th>Age</th>\n",
       "      <th>Graduated</th>\n",
       "      <th>Profession</th>\n",
       "      <th>Work_Experience</th>\n",
       "      <th>Spending_Score</th>\n",
       "      <th>Family_Size</th>\n",
       "      <th>Category</th>\n",
       "      <th>Segmentation</th>\n",
       "    </tr>\n",
       "  </thead>\n",
       "  <tbody>\n",
       "    <tr>\n",
       "      <th>4382</th>\n",
       "      <td>0</td>\n",
       "      <td>1</td>\n",
       "      <td>39</td>\n",
       "      <td>0</td>\n",
       "      <td>8</td>\n",
       "      <td>12.0</td>\n",
       "      <td>1</td>\n",
       "      <td>7.0</td>\n",
       "      <td>1</td>\n",
       "      <td>1</td>\n",
       "    </tr>\n",
       "    <tr>\n",
       "      <th>3123</th>\n",
       "      <td>0</td>\n",
       "      <td>1</td>\n",
       "      <td>38</td>\n",
       "      <td>1</td>\n",
       "      <td>6</td>\n",
       "      <td>0.0</td>\n",
       "      <td>0</td>\n",
       "      <td>2.0</td>\n",
       "      <td>0</td>\n",
       "      <td>3</td>\n",
       "    </tr>\n",
       "    <tr>\n",
       "      <th>2017</th>\n",
       "      <td>0</td>\n",
       "      <td>0</td>\n",
       "      <td>30</td>\n",
       "      <td>1</td>\n",
       "      <td>4</td>\n",
       "      <td>0.0</td>\n",
       "      <td>0</td>\n",
       "      <td>2.0</td>\n",
       "      <td>3</td>\n",
       "      <td>3</td>\n",
       "    </tr>\n",
       "    <tr>\n",
       "      <th>3634</th>\n",
       "      <td>0</td>\n",
       "      <td>0</td>\n",
       "      <td>42</td>\n",
       "      <td>1</td>\n",
       "      <td>6</td>\n",
       "      <td>0.0</td>\n",
       "      <td>0</td>\n",
       "      <td>3.0</td>\n",
       "      <td>1</td>\n",
       "      <td>3</td>\n",
       "    </tr>\n",
       "    <tr>\n",
       "      <th>2171</th>\n",
       "      <td>0</td>\n",
       "      <td>0</td>\n",
       "      <td>29</td>\n",
       "      <td>1</td>\n",
       "      <td>3</td>\n",
       "      <td>4.0</td>\n",
       "      <td>0</td>\n",
       "      <td>1.0</td>\n",
       "      <td>3</td>\n",
       "      <td>0</td>\n",
       "    </tr>\n",
       "    <tr>\n",
       "      <th>1965</th>\n",
       "      <td>0</td>\n",
       "      <td>1</td>\n",
       "      <td>43</td>\n",
       "      <td>1</td>\n",
       "      <td>3</td>\n",
       "      <td>2.0</td>\n",
       "      <td>0</td>\n",
       "      <td>2.0</td>\n",
       "      <td>1</td>\n",
       "      <td>1</td>\n",
       "    </tr>\n",
       "    <tr>\n",
       "      <th>6823</th>\n",
       "      <td>0</td>\n",
       "      <td>0</td>\n",
       "      <td>32</td>\n",
       "      <td>0</td>\n",
       "      <td>4</td>\n",
       "      <td>2.0</td>\n",
       "      <td>0</td>\n",
       "      <td>2.0</td>\n",
       "      <td>1</td>\n",
       "      <td>0</td>\n",
       "    </tr>\n",
       "    <tr>\n",
       "      <th>5032</th>\n",
       "      <td>0</td>\n",
       "      <td>1</td>\n",
       "      <td>42</td>\n",
       "      <td>1</td>\n",
       "      <td>6</td>\n",
       "      <td>1.0</td>\n",
       "      <td>0</td>\n",
       "      <td>2.0</td>\n",
       "      <td>1</td>\n",
       "      <td>0</td>\n",
       "    </tr>\n",
       "    <tr>\n",
       "      <th>3703</th>\n",
       "      <td>0</td>\n",
       "      <td>1</td>\n",
       "      <td>60</td>\n",
       "      <td>1</td>\n",
       "      <td>3</td>\n",
       "      <td>3.0</td>\n",
       "      <td>2</td>\n",
       "      <td>2.0</td>\n",
       "      <td>1</td>\n",
       "      <td>2</td>\n",
       "    </tr>\n",
       "    <tr>\n",
       "      <th>5722</th>\n",
       "      <td>0</td>\n",
       "      <td>1</td>\n",
       "      <td>60</td>\n",
       "      <td>1</td>\n",
       "      <td>3</td>\n",
       "      <td>0.0</td>\n",
       "      <td>0</td>\n",
       "      <td>1.0</td>\n",
       "      <td>1</td>\n",
       "      <td>1</td>\n",
       "    </tr>\n",
       "  </tbody>\n",
       "</table>\n",
       "</div>"
      ],
      "text/plain": [
       "      Gender  Ever_Married  Age  Graduated  Profession  Work_Experience  \\\n",
       "4382       0             1   39          0           8             12.0   \n",
       "3123       0             1   38          1           6              0.0   \n",
       "2017       0             0   30          1           4              0.0   \n",
       "3634       0             0   42          1           6              0.0   \n",
       "2171       0             0   29          1           3              4.0   \n",
       "1965       0             1   43          1           3              2.0   \n",
       "6823       0             0   32          0           4              2.0   \n",
       "5032       0             1   42          1           6              1.0   \n",
       "3703       0             1   60          1           3              3.0   \n",
       "5722       0             1   60          1           3              0.0   \n",
       "\n",
       "      Spending_Score  Family_Size  Category  Segmentation  \n",
       "4382               1          7.0         1             1  \n",
       "3123               0          2.0         0             3  \n",
       "2017               0          2.0         3             3  \n",
       "3634               0          3.0         1             3  \n",
       "2171               0          1.0         3             0  \n",
       "1965               0          2.0         1             1  \n",
       "6823               0          2.0         1             0  \n",
       "5032               0          2.0         1             0  \n",
       "3703               2          2.0         1             2  \n",
       "5722               0          1.0         1             1  "
      ]
     },
     "execution_count": 10,
     "metadata": {},
     "output_type": "execute_result"
    }
   ],
   "source": [
    "df_data = df_data.replace(encoded_dict)\n",
    "df_data.sample(10)"
   ]
  },
  {
   "cell_type": "code",
   "execution_count": 11,
   "id": "821c7929",
   "metadata": {
    "execution": {
     "iopub.execute_input": "2022-11-20T14:03:04.379947Z",
     "iopub.status.busy": "2022-11-20T14:03:04.379525Z",
     "iopub.status.idle": "2022-11-20T14:03:04.386746Z",
     "shell.execute_reply": "2022-11-20T14:03:04.385481Z"
    },
    "papermill": {
     "duration": 0.019257,
     "end_time": "2022-11-20T14:03:04.389202",
     "exception": false,
     "start_time": "2022-11-20T14:03:04.369945",
     "status": "completed"
    },
    "tags": []
   },
   "outputs": [
    {
     "data": {
      "text/plain": [
       "Index(['Gender', 'Ever_Married', 'Age', 'Graduated', 'Profession',\n",
       "       'Work_Experience', 'Spending_Score', 'Family_Size', 'Category',\n",
       "       'Segmentation'],\n",
       "      dtype='object')"
      ]
     },
     "execution_count": 11,
     "metadata": {},
     "output_type": "execute_result"
    }
   ],
   "source": [
    "df_data.columns"
   ]
  },
  {
   "cell_type": "code",
   "execution_count": 12,
   "id": "170667d3",
   "metadata": {
    "execution": {
     "iopub.execute_input": "2022-11-20T14:03:04.407380Z",
     "iopub.status.busy": "2022-11-20T14:03:04.406927Z",
     "iopub.status.idle": "2022-11-20T14:03:04.412235Z",
     "shell.execute_reply": "2022-11-20T14:03:04.411195Z"
    },
    "papermill": {
     "duration": 0.016984,
     "end_time": "2022-11-20T14:03:04.414393",
     "exception": false,
     "start_time": "2022-11-20T14:03:04.397409",
     "status": "completed"
    },
    "tags": []
   },
   "outputs": [],
   "source": [
    "feature_cols = ['Gender', 'Ever_Married', 'Age', 'Graduated', 'Profession','Work_Experience', 'Spending_Score', 'Family_Size', 'Category']\n",
    "target_col = ['Segmentation']"
   ]
  },
  {
   "cell_type": "code",
   "execution_count": 13,
   "id": "229a9c66",
   "metadata": {
    "execution": {
     "iopub.execute_input": "2022-11-20T14:03:04.433376Z",
     "iopub.status.busy": "2022-11-20T14:03:04.432689Z",
     "iopub.status.idle": "2022-11-20T14:03:05.697590Z",
     "shell.execute_reply": "2022-11-20T14:03:05.696138Z"
    },
    "papermill": {
     "duration": 1.27771,
     "end_time": "2022-11-20T14:03:05.700464",
     "exception": false,
     "start_time": "2022-11-20T14:03:04.422754",
     "status": "completed"
    },
    "tags": []
   },
   "outputs": [],
   "source": [
    "from sklearn.model_selection import train_test_split\n",
    "data_x = df_data.loc[:, feature_cols]\n",
    "data_y = df_data.loc[:, target_col]\n",
    "train_x,test_x,train_y,test_y = train_test_split(data_x, data_y, test_size=0.2)"
   ]
  },
  {
   "cell_type": "code",
   "execution_count": 14,
   "id": "ed9f4428",
   "metadata": {
    "execution": {
     "iopub.execute_input": "2022-11-20T14:03:05.720830Z",
     "iopub.status.busy": "2022-11-20T14:03:05.719902Z",
     "iopub.status.idle": "2022-11-20T14:03:05.727646Z",
     "shell.execute_reply": "2022-11-20T14:03:05.725803Z"
    },
    "papermill": {
     "duration": 0.02007,
     "end_time": "2022-11-20T14:03:05.730320",
     "exception": false,
     "start_time": "2022-11-20T14:03:05.710250",
     "status": "completed"
    },
    "tags": []
   },
   "outputs": [
    {
     "name": "stdout",
     "output_type": "stream",
     "text": [
      "(5332, 9)\n",
      "(5332, 1)\n",
      "(1333, 9)\n",
      "(1333, 1)\n"
     ]
    }
   ],
   "source": [
    "print(train_x.shape)\n",
    "print(train_y.shape)\n",
    "print(test_x.shape)\n",
    "print(test_y.shape)"
   ]
  },
  {
   "cell_type": "code",
   "execution_count": 15,
   "id": "37600c36",
   "metadata": {
    "execution": {
     "iopub.execute_input": "2022-11-20T14:03:05.749587Z",
     "iopub.status.busy": "2022-11-20T14:03:05.748742Z",
     "iopub.status.idle": "2022-11-20T14:03:05.770279Z",
     "shell.execute_reply": "2022-11-20T14:03:05.769003Z"
    },
    "papermill": {
     "duration": 0.033966,
     "end_time": "2022-11-20T14:03:05.772809",
     "exception": false,
     "start_time": "2022-11-20T14:03:05.738843",
     "status": "completed"
    },
    "tags": []
   },
   "outputs": [
    {
     "data": {
      "text/plain": [
       "CategoricalNB()"
      ]
     },
     "execution_count": 15,
     "metadata": {},
     "output_type": "execute_result"
    }
   ],
   "source": [
    "from sklearn.naive_bayes import CategoricalNB\n",
    "cnb = CategoricalNB()\n",
    "cnb.fit(train_x.to_numpy(), train_y.to_numpy().reshape(-1))"
   ]
  },
  {
   "cell_type": "code",
   "execution_count": 16,
   "id": "a29cd12d",
   "metadata": {
    "execution": {
     "iopub.execute_input": "2022-11-20T14:03:05.790887Z",
     "iopub.status.busy": "2022-11-20T14:03:05.790503Z",
     "iopub.status.idle": "2022-11-20T14:03:05.797428Z",
     "shell.execute_reply": "2022-11-20T14:03:05.796345Z"
    },
    "papermill": {
     "duration": 0.018617,
     "end_time": "2022-11-20T14:03:05.799755",
     "exception": false,
     "start_time": "2022-11-20T14:03:05.781138",
     "status": "completed"
    },
    "tags": []
   },
   "outputs": [],
   "source": [
    "actual_y = test_y.to_numpy().reshape(-1)\n",
    "predicted_y = cnb.predict(test_x.to_numpy())"
   ]
  },
  {
   "cell_type": "code",
   "execution_count": 17,
   "id": "706a0243",
   "metadata": {
    "execution": {
     "iopub.execute_input": "2022-11-20T14:03:05.818637Z",
     "iopub.status.busy": "2022-11-20T14:03:05.818206Z",
     "iopub.status.idle": "2022-11-20T14:03:05.825371Z",
     "shell.execute_reply": "2022-11-20T14:03:05.824309Z"
    },
    "papermill": {
     "duration": 0.01915,
     "end_time": "2022-11-20T14:03:05.827877",
     "exception": false,
     "start_time": "2022-11-20T14:03:05.808727",
     "status": "completed"
    },
    "tags": []
   },
   "outputs": [
    {
     "data": {
      "text/plain": [
       "array([1, 1, 1, ..., 0, 2, 0])"
      ]
     },
     "execution_count": 17,
     "metadata": {},
     "output_type": "execute_result"
    }
   ],
   "source": [
    "actual_y"
   ]
  },
  {
   "cell_type": "code",
   "execution_count": 18,
   "id": "149d91c2",
   "metadata": {
    "execution": {
     "iopub.execute_input": "2022-11-20T14:03:05.847617Z",
     "iopub.status.busy": "2022-11-20T14:03:05.847176Z",
     "iopub.status.idle": "2022-11-20T14:03:05.854417Z",
     "shell.execute_reply": "2022-11-20T14:03:05.853352Z"
    },
    "papermill": {
     "duration": 0.019616,
     "end_time": "2022-11-20T14:03:05.856548",
     "exception": false,
     "start_time": "2022-11-20T14:03:05.836932",
     "status": "completed"
    },
    "tags": []
   },
   "outputs": [
    {
     "data": {
      "text/plain": [
       "array([2, 3, 2, ..., 0, 0, 3])"
      ]
     },
     "execution_count": 18,
     "metadata": {},
     "output_type": "execute_result"
    }
   ],
   "source": [
    "predicted_y"
   ]
  },
  {
   "cell_type": "code",
   "execution_count": 19,
   "id": "2af19bb8",
   "metadata": {
    "execution": {
     "iopub.execute_input": "2022-11-20T14:03:05.875667Z",
     "iopub.status.busy": "2022-11-20T14:03:05.875232Z",
     "iopub.status.idle": "2022-11-20T14:03:05.883630Z",
     "shell.execute_reply": "2022-11-20T14:03:05.882614Z"
    },
    "papermill": {
     "duration": 0.020514,
     "end_time": "2022-11-20T14:03:05.885909",
     "exception": false,
     "start_time": "2022-11-20T14:03:05.865395",
     "status": "completed"
    },
    "tags": []
   },
   "outputs": [
    {
     "data": {
      "text/plain": [
       "0.4981245311327832"
      ]
     },
     "execution_count": 19,
     "metadata": {},
     "output_type": "execute_result"
    }
   ],
   "source": [
    "from sklearn import metrics\n",
    "metrics.accuracy_score(actual_y, predicted_y)"
   ]
  },
  {
   "cell_type": "markdown",
   "id": "c5f3023e",
   "metadata": {
    "papermill": {
     "duration": 0.008283,
     "end_time": "2022-11-20T14:03:05.903105",
     "exception": false,
     "start_time": "2022-11-20T14:03:05.894822",
     "status": "completed"
    },
    "tags": []
   },
   "source": [
    "# Confusion matrix,Classification_Report"
   ]
  },
  {
   "cell_type": "code",
   "execution_count": 20,
   "id": "b78ba97a",
   "metadata": {
    "execution": {
     "iopub.execute_input": "2022-11-20T14:03:05.921968Z",
     "iopub.status.busy": "2022-11-20T14:03:05.921532Z",
     "iopub.status.idle": "2022-11-20T14:03:05.930694Z",
     "shell.execute_reply": "2022-11-20T14:03:05.929707Z"
    },
    "papermill": {
     "duration": 0.022044,
     "end_time": "2022-11-20T14:03:05.933828",
     "exception": false,
     "start_time": "2022-11-20T14:03:05.911784",
     "status": "completed"
    },
    "tags": []
   },
   "outputs": [
    {
     "name": "stdout",
     "output_type": "stream",
     "text": [
      "[[222  18  14  70]\n",
      " [ 30  69 147  84]\n",
      " [ 49  48 215  32]\n",
      " [ 54  50  73 158]]\n"
     ]
    }
   ],
   "source": [
    "from sklearn.metrics import confusion_matrix, classification_report\n",
    "print(confusion_matrix(actual_y,predicted_y))"
   ]
  },
  {
   "cell_type": "code",
   "execution_count": 21,
   "id": "b1151afe",
   "metadata": {
    "execution": {
     "iopub.execute_input": "2022-11-20T14:03:05.955955Z",
     "iopub.status.busy": "2022-11-20T14:03:05.955561Z",
     "iopub.status.idle": "2022-11-20T14:03:05.962564Z",
     "shell.execute_reply": "2022-11-20T14:03:05.961491Z"
    },
    "papermill": {
     "duration": 0.019358,
     "end_time": "2022-11-20T14:03:05.964815",
     "exception": false,
     "start_time": "2022-11-20T14:03:05.945457",
     "status": "completed"
    },
    "tags": []
   },
   "outputs": [
    {
     "data": {
      "text/plain": [
       "{'D': 0, 'B': 1, 'C': 2, 'A': 3}"
      ]
     },
     "execution_count": 21,
     "metadata": {},
     "output_type": "execute_result"
    }
   ],
   "source": [
    "segment_dict"
   ]
  },
  {
   "cell_type": "code",
   "execution_count": 22,
   "id": "84a22466",
   "metadata": {
    "execution": {
     "iopub.execute_input": "2022-11-20T14:03:05.984664Z",
     "iopub.status.busy": "2022-11-20T14:03:05.984250Z",
     "iopub.status.idle": "2022-11-20T14:03:05.997131Z",
     "shell.execute_reply": "2022-11-20T14:03:05.995701Z"
    },
    "papermill": {
     "duration": 0.025581,
     "end_time": "2022-11-20T14:03:05.999438",
     "exception": false,
     "start_time": "2022-11-20T14:03:05.973857",
     "status": "completed"
    },
    "tags": []
   },
   "outputs": [
    {
     "name": "stdout",
     "output_type": "stream",
     "text": [
      "              precision    recall  f1-score   support\n",
      "\n",
      "           D       0.63      0.69      0.65       324\n",
      "           B       0.37      0.21      0.27       330\n",
      "           C       0.48      0.62      0.54       344\n",
      "           A       0.46      0.47      0.47       335\n",
      "\n",
      "    accuracy                           0.50      1333\n",
      "   macro avg       0.48      0.50      0.48      1333\n",
      "weighted avg       0.48      0.50      0.48      1333\n",
      "\n"
     ]
    }
   ],
   "source": [
    "print(classification_report(actual_y, predicted_y, target_names=['D','B','C','A']))"
   ]
  },
  {
   "cell_type": "code",
   "execution_count": null,
   "id": "b6f79ea6",
   "metadata": {
    "papermill": {
     "duration": 0.008218,
     "end_time": "2022-11-20T14:03:06.016735",
     "exception": false,
     "start_time": "2022-11-20T14:03:06.008517",
     "status": "completed"
    },
    "tags": []
   },
   "outputs": [],
   "source": []
  }
 ],
 "metadata": {
  "kernelspec": {
   "display_name": "Python 3",
   "language": "python",
   "name": "python3"
  },
  "language_info": {
   "codemirror_mode": {
    "name": "ipython",
    "version": 3
   },
   "file_extension": ".py",
   "mimetype": "text/x-python",
   "name": "python",
   "nbconvert_exporter": "python",
   "pygments_lexer": "ipython3",
   "version": "3.7.12"
  },
  "papermill": {
   "default_parameters": {},
   "duration": 11.693902,
   "end_time": "2022-11-20T14:03:06.748328",
   "environment_variables": {},
   "exception": null,
   "input_path": "__notebook__.ipynb",
   "output_path": "__notebook__.ipynb",
   "parameters": {},
   "start_time": "2022-11-20T14:02:55.054426",
   "version": "2.3.4"
  }
 },
 "nbformat": 4,
 "nbformat_minor": 5
}
